{
 "cells": [
  {
   "cell_type": "code",
   "execution_count": 2,
   "id": "optimum-simpson",
   "metadata": {},
   "outputs": [],
   "source": [
    "import numpy as np\n",
    "import pandas as pd\n",
    "\n",
    "import matplotlib.pyplot as plt "
   ]
  },
  {
   "cell_type": "code",
   "execution_count": null,
   "id": "alive-vacuum",
   "metadata": {},
   "outputs": [],
   "source": []
  },
  {
   "cell_type": "code",
   "execution_count": 3,
   "id": "synthetic-brake",
   "metadata": {},
   "outputs": [
    {
     "data": {
      "text/plain": [
       "(17000, 5)"
      ]
     },
     "execution_count": 3,
     "metadata": {},
     "output_type": "execute_result"
    }
   ],
   "source": [
    "dfprofile = pd.read_json('../data/profile.json', orient= 'records', lines = True)\n",
    "dfprofile.shape"
   ]
  },
  {
   "cell_type": "code",
   "execution_count": 4,
   "id": "muslim-melissa",
   "metadata": {},
   "outputs": [
    {
     "data": {
      "text/html": [
       "<div>\n",
       "<style scoped>\n",
       "    .dataframe tbody tr th:only-of-type {\n",
       "        vertical-align: middle;\n",
       "    }\n",
       "\n",
       "    .dataframe tbody tr th {\n",
       "        vertical-align: top;\n",
       "    }\n",
       "\n",
       "    .dataframe thead th {\n",
       "        text-align: right;\n",
       "    }\n",
       "</style>\n",
       "<table border=\"1\" class=\"dataframe\">\n",
       "  <thead>\n",
       "    <tr style=\"text-align: right;\">\n",
       "      <th></th>\n",
       "      <th>gender</th>\n",
       "      <th>age</th>\n",
       "      <th>id</th>\n",
       "      <th>became_member_on</th>\n",
       "      <th>income</th>\n",
       "    </tr>\n",
       "  </thead>\n",
       "  <tbody>\n",
       "    <tr>\n",
       "      <th>3873</th>\n",
       "      <td>F</td>\n",
       "      <td>35</td>\n",
       "      <td>b743f13d0b9f4ae0b529bb65615f7e52</td>\n",
       "      <td>20160430</td>\n",
       "      <td>34000.0</td>\n",
       "    </tr>\n",
       "    <tr>\n",
       "      <th>3625</th>\n",
       "      <td>F</td>\n",
       "      <td>35</td>\n",
       "      <td>a9ef494d007245e9b94c2ff661859c51</td>\n",
       "      <td>20151018</td>\n",
       "      <td>45000.0</td>\n",
       "    </tr>\n",
       "    <tr>\n",
       "      <th>3028</th>\n",
       "      <td>M</td>\n",
       "      <td>42</td>\n",
       "      <td>d8f121893be243f3a8851129a828beee</td>\n",
       "      <td>20180705</td>\n",
       "      <td>56000.0</td>\n",
       "    </tr>\n",
       "    <tr>\n",
       "      <th>13814</th>\n",
       "      <td>None</td>\n",
       "      <td>118</td>\n",
       "      <td>9da33731c69f4d838d8dacc2f041d538</td>\n",
       "      <td>20141111</td>\n",
       "      <td>NaN</td>\n",
       "    </tr>\n",
       "    <tr>\n",
       "      <th>15398</th>\n",
       "      <td>M</td>\n",
       "      <td>39</td>\n",
       "      <td>646797fb6f194a698086d585c7d60cc3</td>\n",
       "      <td>20170328</td>\n",
       "      <td>61000.0</td>\n",
       "    </tr>\n",
       "    <tr>\n",
       "      <th>13244</th>\n",
       "      <td>M</td>\n",
       "      <td>54</td>\n",
       "      <td>e068cefa9e104dff830da55b9b8e4ff7</td>\n",
       "      <td>20170721</td>\n",
       "      <td>63000.0</td>\n",
       "    </tr>\n",
       "    <tr>\n",
       "      <th>2516</th>\n",
       "      <td>F</td>\n",
       "      <td>76</td>\n",
       "      <td>84a64f55640543db95c7f53a460fcb39</td>\n",
       "      <td>20171224</td>\n",
       "      <td>57000.0</td>\n",
       "    </tr>\n",
       "    <tr>\n",
       "      <th>3008</th>\n",
       "      <td>O</td>\n",
       "      <td>49</td>\n",
       "      <td>6db6c774200b4c99bdbd8e7e2ab98b31</td>\n",
       "      <td>20171122</td>\n",
       "      <td>80000.0</td>\n",
       "    </tr>\n",
       "    <tr>\n",
       "      <th>2619</th>\n",
       "      <td>M</td>\n",
       "      <td>70</td>\n",
       "      <td>759c2269abc44dfdb8e6d140d4060856</td>\n",
       "      <td>20170517</td>\n",
       "      <td>113000.0</td>\n",
       "    </tr>\n",
       "    <tr>\n",
       "      <th>2525</th>\n",
       "      <td>F</td>\n",
       "      <td>73</td>\n",
       "      <td>e928e0783c9c473c9e1648f430b489e6</td>\n",
       "      <td>20171226</td>\n",
       "      <td>49000.0</td>\n",
       "    </tr>\n",
       "  </tbody>\n",
       "</table>\n",
       "</div>"
      ],
      "text/plain": [
       "      gender  age                                id  became_member_on  \\\n",
       "3873       F   35  b743f13d0b9f4ae0b529bb65615f7e52          20160430   \n",
       "3625       F   35  a9ef494d007245e9b94c2ff661859c51          20151018   \n",
       "3028       M   42  d8f121893be243f3a8851129a828beee          20180705   \n",
       "13814   None  118  9da33731c69f4d838d8dacc2f041d538          20141111   \n",
       "15398      M   39  646797fb6f194a698086d585c7d60cc3          20170328   \n",
       "13244      M   54  e068cefa9e104dff830da55b9b8e4ff7          20170721   \n",
       "2516       F   76  84a64f55640543db95c7f53a460fcb39          20171224   \n",
       "3008       O   49  6db6c774200b4c99bdbd8e7e2ab98b31          20171122   \n",
       "2619       M   70  759c2269abc44dfdb8e6d140d4060856          20170517   \n",
       "2525       F   73  e928e0783c9c473c9e1648f430b489e6          20171226   \n",
       "\n",
       "         income  \n",
       "3873    34000.0  \n",
       "3625    45000.0  \n",
       "3028    56000.0  \n",
       "13814       NaN  \n",
       "15398   61000.0  \n",
       "13244   63000.0  \n",
       "2516    57000.0  \n",
       "3008    80000.0  \n",
       "2619   113000.0  \n",
       "2525    49000.0  "
      ]
     },
     "execution_count": 4,
     "metadata": {},
     "output_type": "execute_result"
    }
   ],
   "source": [
    "dfprofile.sample(10, random_state = 0)"
   ]
  },
  {
   "cell_type": "code",
   "execution_count": 5,
   "id": "cellular-tucson",
   "metadata": {},
   "outputs": [
    {
     "data": {
      "text/plain": [
       "gender               object\n",
       "age                   int64\n",
       "id                   object\n",
       "became_member_on      int64\n",
       "income              float64\n",
       "dtype: object"
      ]
     },
     "execution_count": 5,
     "metadata": {},
     "output_type": "execute_result"
    }
   ],
   "source": [
    "dfprofile.dtypes"
   ]
  },
  {
   "cell_type": "code",
   "execution_count": 6,
   "id": "thorough-parallel",
   "metadata": {},
   "outputs": [],
   "source": [
    "dfprofile['became_member_on'] = dfprofile['became_member_on'].astype(str)"
   ]
  },
  {
   "cell_type": "code",
   "execution_count": 7,
   "id": "wooden-emerald",
   "metadata": {},
   "outputs": [],
   "source": [
    "dfprofile['member_since'] = pd.to_datetime(dfprofile['became_member_on'])\n",
    "dfprofile['member_year'] = dfprofile['member_since'].dt.year\n",
    "dfprofile['member_month'] = dfprofile['member_since'].dt.month"
   ]
  },
  {
   "cell_type": "code",
   "execution_count": 8,
   "id": "conscious-contents",
   "metadata": {},
   "outputs": [
    {
     "data": {
      "text/html": [
       "<div>\n",
       "<style scoped>\n",
       "    .dataframe tbody tr th:only-of-type {\n",
       "        vertical-align: middle;\n",
       "    }\n",
       "\n",
       "    .dataframe tbody tr th {\n",
       "        vertical-align: top;\n",
       "    }\n",
       "\n",
       "    .dataframe thead th {\n",
       "        text-align: right;\n",
       "    }\n",
       "</style>\n",
       "<table border=\"1\" class=\"dataframe\">\n",
       "  <thead>\n",
       "    <tr style=\"text-align: right;\">\n",
       "      <th></th>\n",
       "      <th>gender</th>\n",
       "      <th>age</th>\n",
       "      <th>id</th>\n",
       "      <th>became_member_on</th>\n",
       "      <th>income</th>\n",
       "      <th>member_since</th>\n",
       "      <th>member_year</th>\n",
       "      <th>member_month</th>\n",
       "    </tr>\n",
       "  </thead>\n",
       "  <tbody>\n",
       "    <tr>\n",
       "      <th>3873</th>\n",
       "      <td>F</td>\n",
       "      <td>35</td>\n",
       "      <td>b743f13d0b9f4ae0b529bb65615f7e52</td>\n",
       "      <td>20160430</td>\n",
       "      <td>34000.0</td>\n",
       "      <td>2016-04-30</td>\n",
       "      <td>2016</td>\n",
       "      <td>4</td>\n",
       "    </tr>\n",
       "    <tr>\n",
       "      <th>3625</th>\n",
       "      <td>F</td>\n",
       "      <td>35</td>\n",
       "      <td>a9ef494d007245e9b94c2ff661859c51</td>\n",
       "      <td>20151018</td>\n",
       "      <td>45000.0</td>\n",
       "      <td>2015-10-18</td>\n",
       "      <td>2015</td>\n",
       "      <td>10</td>\n",
       "    </tr>\n",
       "    <tr>\n",
       "      <th>3028</th>\n",
       "      <td>M</td>\n",
       "      <td>42</td>\n",
       "      <td>d8f121893be243f3a8851129a828beee</td>\n",
       "      <td>20180705</td>\n",
       "      <td>56000.0</td>\n",
       "      <td>2018-07-05</td>\n",
       "      <td>2018</td>\n",
       "      <td>7</td>\n",
       "    </tr>\n",
       "    <tr>\n",
       "      <th>13814</th>\n",
       "      <td>None</td>\n",
       "      <td>118</td>\n",
       "      <td>9da33731c69f4d838d8dacc2f041d538</td>\n",
       "      <td>20141111</td>\n",
       "      <td>NaN</td>\n",
       "      <td>2014-11-11</td>\n",
       "      <td>2014</td>\n",
       "      <td>11</td>\n",
       "    </tr>\n",
       "    <tr>\n",
       "      <th>15398</th>\n",
       "      <td>M</td>\n",
       "      <td>39</td>\n",
       "      <td>646797fb6f194a698086d585c7d60cc3</td>\n",
       "      <td>20170328</td>\n",
       "      <td>61000.0</td>\n",
       "      <td>2017-03-28</td>\n",
       "      <td>2017</td>\n",
       "      <td>3</td>\n",
       "    </tr>\n",
       "    <tr>\n",
       "      <th>13244</th>\n",
       "      <td>M</td>\n",
       "      <td>54</td>\n",
       "      <td>e068cefa9e104dff830da55b9b8e4ff7</td>\n",
       "      <td>20170721</td>\n",
       "      <td>63000.0</td>\n",
       "      <td>2017-07-21</td>\n",
       "      <td>2017</td>\n",
       "      <td>7</td>\n",
       "    </tr>\n",
       "    <tr>\n",
       "      <th>2516</th>\n",
       "      <td>F</td>\n",
       "      <td>76</td>\n",
       "      <td>84a64f55640543db95c7f53a460fcb39</td>\n",
       "      <td>20171224</td>\n",
       "      <td>57000.0</td>\n",
       "      <td>2017-12-24</td>\n",
       "      <td>2017</td>\n",
       "      <td>12</td>\n",
       "    </tr>\n",
       "    <tr>\n",
       "      <th>3008</th>\n",
       "      <td>O</td>\n",
       "      <td>49</td>\n",
       "      <td>6db6c774200b4c99bdbd8e7e2ab98b31</td>\n",
       "      <td>20171122</td>\n",
       "      <td>80000.0</td>\n",
       "      <td>2017-11-22</td>\n",
       "      <td>2017</td>\n",
       "      <td>11</td>\n",
       "    </tr>\n",
       "    <tr>\n",
       "      <th>2619</th>\n",
       "      <td>M</td>\n",
       "      <td>70</td>\n",
       "      <td>759c2269abc44dfdb8e6d140d4060856</td>\n",
       "      <td>20170517</td>\n",
       "      <td>113000.0</td>\n",
       "      <td>2017-05-17</td>\n",
       "      <td>2017</td>\n",
       "      <td>5</td>\n",
       "    </tr>\n",
       "    <tr>\n",
       "      <th>2525</th>\n",
       "      <td>F</td>\n",
       "      <td>73</td>\n",
       "      <td>e928e0783c9c473c9e1648f430b489e6</td>\n",
       "      <td>20171226</td>\n",
       "      <td>49000.0</td>\n",
       "      <td>2017-12-26</td>\n",
       "      <td>2017</td>\n",
       "      <td>12</td>\n",
       "    </tr>\n",
       "  </tbody>\n",
       "</table>\n",
       "</div>"
      ],
      "text/plain": [
       "      gender  age                                id became_member_on  \\\n",
       "3873       F   35  b743f13d0b9f4ae0b529bb65615f7e52         20160430   \n",
       "3625       F   35  a9ef494d007245e9b94c2ff661859c51         20151018   \n",
       "3028       M   42  d8f121893be243f3a8851129a828beee         20180705   \n",
       "13814   None  118  9da33731c69f4d838d8dacc2f041d538         20141111   \n",
       "15398      M   39  646797fb6f194a698086d585c7d60cc3         20170328   \n",
       "13244      M   54  e068cefa9e104dff830da55b9b8e4ff7         20170721   \n",
       "2516       F   76  84a64f55640543db95c7f53a460fcb39         20171224   \n",
       "3008       O   49  6db6c774200b4c99bdbd8e7e2ab98b31         20171122   \n",
       "2619       M   70  759c2269abc44dfdb8e6d140d4060856         20170517   \n",
       "2525       F   73  e928e0783c9c473c9e1648f430b489e6         20171226   \n",
       "\n",
       "         income member_since  member_year  member_month  \n",
       "3873    34000.0   2016-04-30         2016             4  \n",
       "3625    45000.0   2015-10-18         2015            10  \n",
       "3028    56000.0   2018-07-05         2018             7  \n",
       "13814       NaN   2014-11-11         2014            11  \n",
       "15398   61000.0   2017-03-28         2017             3  \n",
       "13244   63000.0   2017-07-21         2017             7  \n",
       "2516    57000.0   2017-12-24         2017            12  \n",
       "3008    80000.0   2017-11-22         2017            11  \n",
       "2619   113000.0   2017-05-17         2017             5  \n",
       "2525    49000.0   2017-12-26         2017            12  "
      ]
     },
     "execution_count": 8,
     "metadata": {},
     "output_type": "execute_result"
    }
   ],
   "source": [
    "dfprofile.sample(10, random_state = 0)"
   ]
  },
  {
   "cell_type": "code",
   "execution_count": 9,
   "id": "hollow-billion",
   "metadata": {},
   "outputs": [],
   "source": [
    "# derived features from `became_member_on` look fine. Will delete it\n",
    "del dfprofile['became_member_on']"
   ]
  },
  {
   "cell_type": "code",
   "execution_count": 10,
   "id": "thrown-science",
   "metadata": {},
   "outputs": [
    {
     "data": {
      "text/plain": [
       "2013     286\n",
       "2014     691\n",
       "2015    1830\n",
       "2016    3526\n",
       "2017    6469\n",
       "2018    4198\n",
       "Name: member_year, dtype: int64"
      ]
     },
     "execution_count": 10,
     "metadata": {},
     "output_type": "execute_result"
    }
   ],
   "source": [
    "count_year = dfprofile['member_year'].value_counts(dropna = False).sort_index()\n",
    "count_year"
   ]
  },
  {
   "cell_type": "code",
   "execution_count": 11,
   "id": "partial-legislature",
   "metadata": {},
   "outputs": [
    {
     "data": {
      "text/plain": [
       "<AxesSubplot:>"
      ]
     },
     "execution_count": 11,
     "metadata": {},
     "output_type": "execute_result"
    },
    {
     "data": {
      "image/png": "[encoded data removed]",
      "text/plain": [
       "<Figure size 432x288 with 1 Axes>"
      ]
     },
     "metadata": {
      "needs_background": "light"
     },
     "output_type": "display_data"
    }
   ],
   "source": [
    "count_year.plot.bar()"
   ]
  },
  {
   "cell_type": "code",
   "execution_count": 12,
   "id": "manufactured-locking",
   "metadata": {},
   "outputs": [
    {
     "data": {
      "text/plain": [
       "1     1525\n",
       "2     1202\n",
       "3     1329\n",
       "4     1315\n",
       "5     1307\n",
       "6     1265\n",
       "7     1359\n",
       "8     1610\n",
       "9     1515\n",
       "10    1568\n",
       "11    1449\n",
       "12    1556\n",
       "Name: member_month, dtype: int64"
      ]
     },
     "execution_count": 12,
     "metadata": {},
     "output_type": "execute_result"
    }
   ],
   "source": [
    "count_month = dfprofile['member_month'].value_counts(dropna = False).sort_index()\n",
    "count_month"
   ]
  },
  {
   "cell_type": "code",
   "execution_count": 13,
   "id": "expensive-brother",
   "metadata": {},
   "outputs": [
    {
     "data": {
      "text/plain": [
       "<AxesSubplot:>"
      ]
     },
     "execution_count": 13,
     "metadata": {},
     "output_type": "execute_result"
    },
    {
     "data": {
      "image/png": "[encoded data removed]",
      "text/plain": [
       "<Figure size 432x288 with 1 Axes>"
      ]
     },
     "metadata": {
      "needs_background": "light"
     },
     "output_type": "display_data"
    }
   ],
   "source": [
    "count_month.plot.bar()"
   ]
  },
  {
   "cell_type": "markdown",
   "id": "innovative-patrick",
   "metadata": {},
   "source": [
    "The month is practically normally distributed. I will not consider using it for my analysis."
   ]
  },
  {
   "cell_type": "code",
   "execution_count": 14,
   "id": "global-morgan",
   "metadata": {},
   "outputs": [
    {
     "data": {
      "text/plain": [
       "<AxesSubplot:>"
      ]
     },
     "execution_count": 14,
     "metadata": {},
     "output_type": "execute_result"
    },
    {
     "data": {
      "image/png": "[encoded data removed]",
      "text/plain": [
       "<Figure size 432x288 with 1 Axes>"
      ]
     },
     "metadata": {
      "needs_background": "light"
     },
     "output_type": "display_data"
    }
   ],
   "source": [
    "bins = [18.,  30.,  40.,  50.,  60.,  70.,  80.,  90., 100., 120.]\n",
    "dfprofile['age'].hist(bins = bins)"
   ]
  },
  {
   "cell_type": "code",
   "execution_count": 15,
   "id": "featured-china",
   "metadata": {},
   "outputs": [
    {
     "data": {
      "text/plain": [
       "(2394,)"
      ]
     },
     "execution_count": 15,
     "metadata": {},
     "output_type": "execute_result"
    }
   ],
   "source": [
    "dfprofile['age'].loc[dfprofile['age'] > 90].shape"
   ]
  },
  {
   "cell_type": "markdown",
   "id": "reverse-arrow",
   "metadata": {},
   "source": [
    "So, there are 2394 people above age of 90 in our sample. Let's investigate, eespecially those who are above 100 look suspcicious, their count is even higher than people within 20 to 40. That's indeed strange."
   ]
  },
  {
   "cell_type": "code",
   "execution_count": 16,
   "id": "acting-opening",
   "metadata": {},
   "outputs": [
    {
     "data": {
      "text/plain": [
       "91       47\n",
       "92       40\n",
       "93       29\n",
       "94       33\n",
       "95       22\n",
       "96        8\n",
       "97       13\n",
       "98        5\n",
       "99        5\n",
       "100      12\n",
       "101       5\n",
       "118    2175\n",
       "Name: age, dtype: int64"
      ]
     },
     "execution_count": 16,
     "metadata": {},
     "output_type": "execute_result"
    }
   ],
   "source": [
    "dfprofile['age'].loc[dfprofile['age'] > 90].value_counts().sort_index()"
   ]
  },
  {
   "cell_type": "code",
   "execution_count": 17,
   "id": "latter-spell",
   "metadata": {},
   "outputs": [
    {
     "data": {
      "text/plain": [
       "0"
      ]
     },
     "execution_count": 17,
     "metadata": {},
     "output_type": "execute_result"
    }
   ],
   "source": [
    "# There is no NaN value in the age columns\n",
    "dfprofile['age'].isna().sum()"
   ]
  },
  {
   "cell_type": "markdown",
   "id": "sharing-reception",
   "metadata": {},
   "source": [
    "Ok. Makes better sense. I assume 118 is code for missing value for age; notice that there is no NA in age which makes my assumption stronger. I'm also gonna go and code all people above age 91 as missing value, since I don't trust that is the correct age. Ideally I would have talked to the people responsible for gather the data, but you have to do with what you got."
   ]
  },
  {
   "cell_type": "code",
   "execution_count": 18,
   "id": "separated-sending",
   "metadata": {},
   "outputs": [
    {
     "data": {
      "text/html": [
       "<div>\n",
       "<style scoped>\n",
       "    .dataframe tbody tr th:only-of-type {\n",
       "        vertical-align: middle;\n",
       "    }\n",
       "\n",
       "    .dataframe tbody tr th {\n",
       "        vertical-align: top;\n",
       "    }\n",
       "\n",
       "    .dataframe thead th {\n",
       "        text-align: right;\n",
       "    }\n",
       "</style>\n",
       "<table border=\"1\" class=\"dataframe\">\n",
       "  <thead>\n",
       "    <tr style=\"text-align: right;\">\n",
       "      <th></th>\n",
       "      <th>gender</th>\n",
       "      <th>age</th>\n",
       "      <th>id</th>\n",
       "      <th>income</th>\n",
       "      <th>member_since</th>\n",
       "      <th>member_year</th>\n",
       "      <th>member_month</th>\n",
       "    </tr>\n",
       "  </thead>\n",
       "  <tbody>\n",
       "    <tr>\n",
       "      <th>1415</th>\n",
       "      <td>None</td>\n",
       "      <td>118</td>\n",
       "      <td>bea39bf06adf4610b588deaba0bd791c</td>\n",
       "      <td>NaN</td>\n",
       "      <td>2017-07-31</td>\n",
       "      <td>2017</td>\n",
       "      <td>7</td>\n",
       "    </tr>\n",
       "    <tr>\n",
       "      <th>16994</th>\n",
       "      <td>None</td>\n",
       "      <td>118</td>\n",
       "      <td>c02b10e8752c4d8e9b73f918558531f7</td>\n",
       "      <td>NaN</td>\n",
       "      <td>2015-12-11</td>\n",
       "      <td>2015</td>\n",
       "      <td>12</td>\n",
       "    </tr>\n",
       "    <tr>\n",
       "      <th>3356</th>\n",
       "      <td>None</td>\n",
       "      <td>118</td>\n",
       "      <td>57b6daacc3d746f68e57bb2180b6f8a1</td>\n",
       "      <td>NaN</td>\n",
       "      <td>2016-06-12</td>\n",
       "      <td>2016</td>\n",
       "      <td>6</td>\n",
       "    </tr>\n",
       "    <tr>\n",
       "      <th>6631</th>\n",
       "      <td>None</td>\n",
       "      <td>118</td>\n",
       "      <td>259049daa72f43b29bba5758db435f9d</td>\n",
       "      <td>NaN</td>\n",
       "      <td>2018-05-08</td>\n",
       "      <td>2018</td>\n",
       "      <td>5</td>\n",
       "    </tr>\n",
       "    <tr>\n",
       "      <th>12403</th>\n",
       "      <td>None</td>\n",
       "      <td>118</td>\n",
       "      <td>cc82a0a1f09d40c1ac79d5b1d844cc9b</td>\n",
       "      <td>NaN</td>\n",
       "      <td>2018-03-03</td>\n",
       "      <td>2018</td>\n",
       "      <td>3</td>\n",
       "    </tr>\n",
       "    <tr>\n",
       "      <th>7203</th>\n",
       "      <td>None</td>\n",
       "      <td>118</td>\n",
       "      <td>4ea6324f760d40b3bd6b44d660e7bf1c</td>\n",
       "      <td>NaN</td>\n",
       "      <td>2017-10-02</td>\n",
       "      <td>2017</td>\n",
       "      <td>10</td>\n",
       "    </tr>\n",
       "    <tr>\n",
       "      <th>4439</th>\n",
       "      <td>None</td>\n",
       "      <td>118</td>\n",
       "      <td>48f7bc851d79485aba255b24325f4649</td>\n",
       "      <td>NaN</td>\n",
       "      <td>2018-02-21</td>\n",
       "      <td>2018</td>\n",
       "      <td>2</td>\n",
       "    </tr>\n",
       "    <tr>\n",
       "      <th>5505</th>\n",
       "      <td>None</td>\n",
       "      <td>118</td>\n",
       "      <td>8109d451a16e4e2690383f084e575a57</td>\n",
       "      <td>NaN</td>\n",
       "      <td>2016-03-14</td>\n",
       "      <td>2016</td>\n",
       "      <td>3</td>\n",
       "    </tr>\n",
       "    <tr>\n",
       "      <th>7534</th>\n",
       "      <td>None</td>\n",
       "      <td>118</td>\n",
       "      <td>b709b164f64d4af58d28e601575bf48b</td>\n",
       "      <td>NaN</td>\n",
       "      <td>2018-05-16</td>\n",
       "      <td>2018</td>\n",
       "      <td>5</td>\n",
       "    </tr>\n",
       "    <tr>\n",
       "      <th>14047</th>\n",
       "      <td>None</td>\n",
       "      <td>118</td>\n",
       "      <td>2d35e6cbece34ef2b6f9240972b52831</td>\n",
       "      <td>NaN</td>\n",
       "      <td>2018-03-27</td>\n",
       "      <td>2018</td>\n",
       "      <td>3</td>\n",
       "    </tr>\n",
       "  </tbody>\n",
       "</table>\n",
       "</div>"
      ],
      "text/plain": [
       "      gender  age                                id  income member_since  \\\n",
       "1415    None  118  bea39bf06adf4610b588deaba0bd791c     NaN   2017-07-31   \n",
       "16994   None  118  c02b10e8752c4d8e9b73f918558531f7     NaN   2015-12-11   \n",
       "3356    None  118  57b6daacc3d746f68e57bb2180b6f8a1     NaN   2016-06-12   \n",
       "6631    None  118  259049daa72f43b29bba5758db435f9d     NaN   2018-05-08   \n",
       "12403   None  118  cc82a0a1f09d40c1ac79d5b1d844cc9b     NaN   2018-03-03   \n",
       "7203    None  118  4ea6324f760d40b3bd6b44d660e7bf1c     NaN   2017-10-02   \n",
       "4439    None  118  48f7bc851d79485aba255b24325f4649     NaN   2018-02-21   \n",
       "5505    None  118  8109d451a16e4e2690383f084e575a57     NaN   2016-03-14   \n",
       "7534    None  118  b709b164f64d4af58d28e601575bf48b     NaN   2018-05-16   \n",
       "14047   None  118  2d35e6cbece34ef2b6f9240972b52831     NaN   2018-03-27   \n",
       "\n",
       "       member_year  member_month  \n",
       "1415          2017             7  \n",
       "16994         2015            12  \n",
       "3356          2016             6  \n",
       "6631          2018             5  \n",
       "12403         2018             3  \n",
       "7203          2017            10  \n",
       "4439          2018             2  \n",
       "5505          2016             3  \n",
       "7534          2018             5  \n",
       "14047         2018             3  "
      ]
     },
     "execution_count": 18,
     "metadata": {},
     "output_type": "execute_result"
    }
   ],
   "source": [
    "dfprofile.loc[dfprofile['age'] == 118].sample(10, random_state = 0)"
   ]
  },
  {
   "cell_type": "markdown",
   "id": "racial-representative",
   "metadata": {},
   "source": [
    "So, since people of age 118 are have no value for gender and income, it's safe to assume age of `118` is code for `NA`. I'm not sure if much value could be drived out of those people since the only information available about them is the date they became a member."
   ]
  },
  {
   "cell_type": "code",
   "execution_count": 19,
   "id": "premium-collapse",
   "metadata": {},
   "outputs": [],
   "source": [
    "#dfprofile['age'].apply(lambda x: [n if n < 90 else np.nan for n in x])\n",
    "# https://stackoverflow.com/questions/43757977/replacing-values-greater-than-a-number-in-pandas-dataframe\n",
    "\n",
    "# If age is above 90, code it as NA:\n",
    "age_clean = np.array(dfprofile['age'].values.tolist())\n",
    "dfprofile['age_cleaned'] = np.where(age_clean > 90, np.nan, age_clean).tolist()"
   ]
  },
  {
   "cell_type": "code",
   "execution_count": null,
   "id": "revised-bottom",
   "metadata": {},
   "outputs": [],
   "source": []
  },
  {
   "cell_type": "code",
   "execution_count": 20,
   "id": "nearby-haven",
   "metadata": {},
   "outputs": [
    {
     "data": {
      "text/plain": [
       "M      8484\n",
       "F      6129\n",
       "NaN    2175\n",
       "O       212\n",
       "Name: gender, dtype: int64"
      ]
     },
     "execution_count": 20,
     "metadata": {},
     "output_type": "execute_result"
    }
   ],
   "source": [
    "count_gender = dfprofile['gender'].value_counts(dropna = False)\n",
    "count_gender"
   ]
  },
  {
   "cell_type": "code",
   "execution_count": 21,
   "id": "dominican-alexander",
   "metadata": {},
   "outputs": [
    {
     "data": {
      "text/plain": [
       "<AxesSubplot:>"
      ]
     },
     "execution_count": 21,
     "metadata": {},
     "output_type": "execute_result"
    },
    {
     "data": {
      "image/png": "[encoded data removed]",
      "text/plain": [
       "<Figure size 432x288 with 1 Axes>"
      ]
     },
     "metadata": {
      "needs_background": "light"
     },
     "output_type": "display_data"
    }
   ],
   "source": [
    "count_gender.plot.bar()"
   ]
  },
  {
   "cell_type": "markdown",
   "id": "apart-testing",
   "metadata": {},
   "source": [
    "Because there are only 212 people with `O` as gender, I'll code them as `NA`. "
   ]
  },
  {
   "cell_type": "code",
   "execution_count": 22,
   "id": "collaborative-thickness",
   "metadata": {},
   "outputs": [
    {
     "name": "stderr",
     "output_type": "stream",
     "text": [
      "C:\\Users\\Heschmat\\miniconda3\\lib\\site-packages\\pandas\\core\\indexing.py:1637: SettingWithCopyWarning: \n",
      "A value is trying to be set on a copy of a slice from a DataFrame\n",
      "\n",
      "See the caveats in the documentation: https://pandas.pydata.org/pandas-docs/stable/user_guide/indexing.html#returning-a-view-versus-a-copy\n",
      "  self._setitem_single_block(indexer, value, name)\n"
     ]
    }
   ],
   "source": [
    "dfprofile['gender'].loc[dfprofile['gender'] == 'O'] = np.nan\n",
    "\n"
   ]
  },
  {
   "cell_type": "code",
   "execution_count": 23,
   "id": "removed-designer",
   "metadata": {},
   "outputs": [
    {
     "data": {
      "text/plain": [
       "M      8484\n",
       "F      6129\n",
       "NaN    2387\n",
       "Name: gender, dtype: int64"
      ]
     },
     "execution_count": 23,
     "metadata": {},
     "output_type": "execute_result"
    }
   ],
   "source": [
    "dfprofile['gender'].value_counts(dropna = False)"
   ]
  },
  {
   "cell_type": "code",
   "execution_count": null,
   "id": "experienced-professional",
   "metadata": {},
   "outputs": [],
   "source": []
  },
  {
   "cell_type": "code",
   "execution_count": 24,
   "id": "portable-forwarding",
   "metadata": {},
   "outputs": [
    {
     "data": {
      "text/plain": [
       "2175"
      ]
     },
     "execution_count": 24,
     "metadata": {},
     "output_type": "execute_result"
    }
   ],
   "source": [
    "dfprofile['income'].isna().sum()"
   ]
  },
  {
   "cell_type": "code",
   "execution_count": 25,
   "id": "governmental-publisher",
   "metadata": {},
   "outputs": [
    {
     "data": {
      "text/plain": [
       "<AxesSubplot:>"
      ]
     },
     "execution_count": 25,
     "metadata": {},
     "output_type": "execute_result"
    },
    {
     "data": {
      "image/png": "[encoded data removed]",
      "text/plain": [
       "<Figure size 432x288 with 1 Axes>"
      ]
     },
     "metadata": {
      "needs_background": "light"
     },
     "output_type": "display_data"
    }
   ],
   "source": [
    "dfprofile['income_thaousand'] = dfprofile['income'] / 1000\n",
    "\n",
    "bins = np.arange(30, 120 + 1, 5)\n",
    "dfprofile['income_thaousand'].hist(bins = bins)"
   ]
  },
  {
   "cell_type": "code",
   "execution_count": 26,
   "id": "neither-pickup",
   "metadata": {},
   "outputs": [
    {
     "data": {
      "text/plain": [
       "count    14825.000000\n",
       "mean        65.404992\n",
       "std         21.598299\n",
       "min         30.000000\n",
       "25%         49.000000\n",
       "50%         64.000000\n",
       "75%         80.000000\n",
       "max        120.000000\n",
       "Name: income_thaousand, dtype: float64"
      ]
     },
     "execution_count": 26,
     "metadata": {},
     "output_type": "execute_result"
    }
   ],
   "source": [
    "dfprofile['income_thaousand'].describe()"
   ]
  },
  {
   "cell_type": "markdown",
   "id": "nervous-massage",
   "metadata": {},
   "source": [
    "So, the income is right skewed"
   ]
  },
  {
   "cell_type": "code",
   "execution_count": null,
   "id": "modular-resort",
   "metadata": {},
   "outputs": [],
   "source": []
  },
  {
   "cell_type": "code",
   "execution_count": 27,
   "id": "communist-dealer",
   "metadata": {},
   "outputs": [
    {
     "data": {
      "text/html": [
       "<div>\n",
       "<style scoped>\n",
       "    .dataframe tbody tr th:only-of-type {\n",
       "        vertical-align: middle;\n",
       "    }\n",
       "\n",
       "    .dataframe tbody tr th {\n",
       "        vertical-align: top;\n",
       "    }\n",
       "\n",
       "    .dataframe thead tr th {\n",
       "        text-align: left;\n",
       "    }\n",
       "\n",
       "    .dataframe thead tr:last-of-type th {\n",
       "        text-align: right;\n",
       "    }\n",
       "</style>\n",
       "<table border=\"1\" class=\"dataframe\">\n",
       "  <thead>\n",
       "    <tr>\n",
       "      <th></th>\n",
       "      <th colspan=\"8\" halign=\"left\">income</th>\n",
       "    </tr>\n",
       "    <tr>\n",
       "      <th></th>\n",
       "      <th>count</th>\n",
       "      <th>mean</th>\n",
       "      <th>std</th>\n",
       "      <th>min</th>\n",
       "      <th>25%</th>\n",
       "      <th>50%</th>\n",
       "      <th>75%</th>\n",
       "      <th>max</th>\n",
       "    </tr>\n",
       "    <tr>\n",
       "      <th>gender</th>\n",
       "      <th></th>\n",
       "      <th></th>\n",
       "      <th></th>\n",
       "      <th></th>\n",
       "      <th></th>\n",
       "      <th></th>\n",
       "      <th></th>\n",
       "      <th></th>\n",
       "    </tr>\n",
       "  </thead>\n",
       "  <tbody>\n",
       "    <tr>\n",
       "      <th>F</th>\n",
       "      <td>6129.0</td>\n",
       "      <td>71306.0</td>\n",
       "      <td>22338.0</td>\n",
       "      <td>30000.0</td>\n",
       "      <td>54000.0</td>\n",
       "      <td>71000.0</td>\n",
       "      <td>88000.0</td>\n",
       "      <td>120000.0</td>\n",
       "    </tr>\n",
       "    <tr>\n",
       "      <th>M</th>\n",
       "      <td>8484.0</td>\n",
       "      <td>61195.0</td>\n",
       "      <td>20070.0</td>\n",
       "      <td>30000.0</td>\n",
       "      <td>45000.0</td>\n",
       "      <td>59000.0</td>\n",
       "      <td>73000.0</td>\n",
       "      <td>120000.0</td>\n",
       "    </tr>\n",
       "  </tbody>\n",
       "</table>\n",
       "</div>"
      ],
      "text/plain": [
       "        income                                                                \n",
       "         count     mean      std      min      25%      50%      75%       max\n",
       "gender                                                                        \n",
       "F       6129.0  71306.0  22338.0  30000.0  54000.0  71000.0  88000.0  120000.0\n",
       "M       8484.0  61195.0  20070.0  30000.0  45000.0  59000.0  73000.0  120000.0"
      ]
     },
     "execution_count": 27,
     "metadata": {},
     "output_type": "execute_result"
    }
   ],
   "source": [
    "dfprofile[['gender', 'income']].groupby('gender').describe().round()"
   ]
  },
  {
   "cell_type": "code",
   "execution_count": 28,
   "id": "applied-cologne",
   "metadata": {},
   "outputs": [
    {
     "data": {
      "text/html": [
       "<div>\n",
       "<style scoped>\n",
       "    .dataframe tbody tr th:only-of-type {\n",
       "        vertical-align: middle;\n",
       "    }\n",
       "\n",
       "    .dataframe tbody tr th {\n",
       "        vertical-align: top;\n",
       "    }\n",
       "\n",
       "    .dataframe thead tr th {\n",
       "        text-align: left;\n",
       "    }\n",
       "\n",
       "    .dataframe thead tr:last-of-type th {\n",
       "        text-align: right;\n",
       "    }\n",
       "</style>\n",
       "<table border=\"1\" class=\"dataframe\">\n",
       "  <thead>\n",
       "    <tr>\n",
       "      <th></th>\n",
       "      <th colspan=\"8\" halign=\"left\">age_cleaned</th>\n",
       "    </tr>\n",
       "    <tr>\n",
       "      <th></th>\n",
       "      <th>count</th>\n",
       "      <th>mean</th>\n",
       "      <th>std</th>\n",
       "      <th>min</th>\n",
       "      <th>25%</th>\n",
       "      <th>50%</th>\n",
       "      <th>75%</th>\n",
       "      <th>max</th>\n",
       "    </tr>\n",
       "    <tr>\n",
       "      <th>gender</th>\n",
       "      <th></th>\n",
       "      <th></th>\n",
       "      <th></th>\n",
       "      <th></th>\n",
       "      <th></th>\n",
       "      <th></th>\n",
       "      <th></th>\n",
       "      <th></th>\n",
       "    </tr>\n",
       "  </thead>\n",
       "  <tbody>\n",
       "    <tr>\n",
       "      <th>F</th>\n",
       "      <td>5993.0</td>\n",
       "      <td>57.0</td>\n",
       "      <td>16.0</td>\n",
       "      <td>18.0</td>\n",
       "      <td>47.0</td>\n",
       "      <td>58.0</td>\n",
       "      <td>68.0</td>\n",
       "      <td>90.0</td>\n",
       "    </tr>\n",
       "    <tr>\n",
       "      <th>M</th>\n",
       "      <td>8403.0</td>\n",
       "      <td>52.0</td>\n",
       "      <td>17.0</td>\n",
       "      <td>18.0</td>\n",
       "      <td>39.0</td>\n",
       "      <td>53.0</td>\n",
       "      <td>64.0</td>\n",
       "      <td>90.0</td>\n",
       "    </tr>\n",
       "  </tbody>\n",
       "</table>\n",
       "</div>"
      ],
      "text/plain": [
       "       age_cleaned                                          \n",
       "             count  mean   std   min   25%   50%   75%   max\n",
       "gender                                                      \n",
       "F           5993.0  57.0  16.0  18.0  47.0  58.0  68.0  90.0\n",
       "M           8403.0  52.0  17.0  18.0  39.0  53.0  64.0  90.0"
      ]
     },
     "execution_count": 28,
     "metadata": {},
     "output_type": "execute_result"
    }
   ],
   "source": [
    "dfprofile[['gender', 'age_cleaned']].groupby('gender').describe().round()"
   ]
  },
  {
   "cell_type": "markdown",
   "id": "remarkable-sleep",
   "metadata": {},
   "source": [
    "So, on average, women in this dataset, are younger and tend to earn less."
   ]
  },
  {
   "cell_type": "code",
   "execution_count": 30,
   "id": "opposite-vietnam",
   "metadata": {},
   "outputs": [],
   "source": [
    "# Save the intermediate data\n",
    "\n",
    "dfprofile.to_pickle('../data_intermediate/profile.pkl')"
   ]
  },
  {
   "cell_type": "code",
   "execution_count": null,
   "id": "numerical-cooperation",
   "metadata": {},
   "outputs": [],
   "source": []
  }
 ],
 "metadata": {
  "kernelspec": {
   "display_name": "Python 3",
   "language": "python",
   "name": "python3"
  },
  "language_info": {
   "codemirror_mode": {
    "name": "ipython",
    "version": 3
   },
   "file_extension": ".py",
   "mimetype": "text/x-python",
   "name": "python",
   "nbconvert_exporter": "python",
   "pygments_lexer": "ipython3",
   "version": "3.8.5"
  }
 },
 "nbformat": 4,
 "nbformat_minor": 5
}
