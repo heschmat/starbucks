{
 "cells": [
  {
   "cell_type": "code",
   "execution_count": 1,
   "id": "exceptional-polls",
   "metadata": {},
   "outputs": [],
   "source": [
    "import numpy as np\n",
    "import pandas as pd\n",
    "\n",
    "import matplotlib.pyplot as plt\n",
    "import seaborn as sns"
   ]
  },
  {
   "cell_type": "code",
   "execution_count": null,
   "id": "going-explorer",
   "metadata": {},
   "outputs": [],
   "source": []
  },
  {
   "cell_type": "code",
   "execution_count": 2,
   "id": "norman-abuse",
   "metadata": {},
   "outputs": [],
   "source": [
    "dfppl = pd.read_pickle('../data_intermediate/profile_cleaned.pkl')\n",
    "dfinfo = pd.read_pickle('../data_intermediate/transactions.pkl')\n",
    "\n",
    "dfportfo = pd.read_pickle('../data_intermediate/portfolio.pkl')"
   ]
  },
  {
   "cell_type": "code",
   "execution_count": 3,
   "id": "infinite-cycling",
   "metadata": {},
   "outputs": [
    {
     "data": {
      "text/html": [
       "<div>\n",
       "<style scoped>\n",
       "    .dataframe tbody tr th:only-of-type {\n",
       "        vertical-align: middle;\n",
       "    }\n",
       "\n",
       "    .dataframe tbody tr th {\n",
       "        vertical-align: top;\n",
       "    }\n",
       "\n",
       "    .dataframe thead th {\n",
       "        text-align: right;\n",
       "    }\n",
       "</style>\n",
       "<table border=\"1\" class=\"dataframe\">\n",
       "  <thead>\n",
       "    <tr style=\"text-align: right;\">\n",
       "      <th></th>\n",
       "      <th>gender</th>\n",
       "      <th>person_id</th>\n",
       "      <th>member_year</th>\n",
       "      <th>age</th>\n",
       "      <th>income_thousand</th>\n",
       "    </tr>\n",
       "  </thead>\n",
       "  <tbody>\n",
       "    <tr>\n",
       "      <th>15166</th>\n",
       "      <td>F</td>\n",
       "      <td>c19daa02</td>\n",
       "      <td>2018</td>\n",
       "      <td>56.0</td>\n",
       "      <td>51.0</td>\n",
       "    </tr>\n",
       "    <tr>\n",
       "      <th>281</th>\n",
       "      <td>F</td>\n",
       "      <td>2c3a4de6</td>\n",
       "      <td>2017</td>\n",
       "      <td>30.0</td>\n",
       "      <td>40.0</td>\n",
       "    </tr>\n",
       "    <tr>\n",
       "      <th>13444</th>\n",
       "      <td>M</td>\n",
       "      <td>c87e0177</td>\n",
       "      <td>2017</td>\n",
       "      <td>52.0</td>\n",
       "      <td>98.0</td>\n",
       "    </tr>\n",
       "    <tr>\n",
       "      <th>4201</th>\n",
       "      <td>NaN</td>\n",
       "      <td>0011e0d4</td>\n",
       "      <td>2018</td>\n",
       "      <td>40.0</td>\n",
       "      <td>57.0</td>\n",
       "    </tr>\n",
       "    <tr>\n",
       "      <th>1343</th>\n",
       "      <td>F</td>\n",
       "      <td>decbcf83</td>\n",
       "      <td>2017</td>\n",
       "      <td>78.0</td>\n",
       "      <td>89.0</td>\n",
       "    </tr>\n",
       "    <tr>\n",
       "      <th>14407</th>\n",
       "      <td>M</td>\n",
       "      <td>bbaca981</td>\n",
       "      <td>2014</td>\n",
       "      <td>39.0</td>\n",
       "      <td>46.0</td>\n",
       "    </tr>\n",
       "    <tr>\n",
       "      <th>7153</th>\n",
       "      <td>F</td>\n",
       "      <td>b03e8502</td>\n",
       "      <td>2017</td>\n",
       "      <td>84.0</td>\n",
       "      <td>87.0</td>\n",
       "    </tr>\n",
       "    <tr>\n",
       "      <th>1175</th>\n",
       "      <td>F</td>\n",
       "      <td>54dd0ebf</td>\n",
       "      <td>2017</td>\n",
       "      <td>20.0</td>\n",
       "      <td>39.0</td>\n",
       "    </tr>\n",
       "    <tr>\n",
       "      <th>6596</th>\n",
       "      <td>M</td>\n",
       "      <td>8fda2481</td>\n",
       "      <td>2015</td>\n",
       "      <td>65.0</td>\n",
       "      <td>38.0</td>\n",
       "    </tr>\n",
       "    <tr>\n",
       "      <th>11895</th>\n",
       "      <td>None</td>\n",
       "      <td>19fc24db</td>\n",
       "      <td>2016</td>\n",
       "      <td>NaN</td>\n",
       "      <td>NaN</td>\n",
       "    </tr>\n",
       "  </tbody>\n",
       "</table>\n",
       "</div>"
      ],
      "text/plain": [
       "      gender person_id  member_year   age  income_thousand\n",
       "15166      F  c19daa02         2018  56.0             51.0\n",
       "281        F  2c3a4de6         2017  30.0             40.0\n",
       "13444      M  c87e0177         2017  52.0             98.0\n",
       "4201     NaN  0011e0d4         2018  40.0             57.0\n",
       "1343       F  decbcf83         2017  78.0             89.0\n",
       "14407      M  bbaca981         2014  39.0             46.0\n",
       "7153       F  b03e8502         2017  84.0             87.0\n",
       "1175       F  54dd0ebf         2017  20.0             39.0\n",
       "6596       M  8fda2481         2015  65.0             38.0\n",
       "11895   None  19fc24db         2016   NaN              NaN"
      ]
     },
     "execution_count": 3,
     "metadata": {},
     "output_type": "execute_result"
    }
   ],
   "source": [
    "# Show a sample of people data\n",
    "dfppl.sample(10, random_state = 3)"
   ]
  },
  {
   "cell_type": "code",
   "execution_count": 4,
   "id": "million-tradition",
   "metadata": {},
   "outputs": [
    {
     "data": {
      "text/html": [
       "<div>\n",
       "<style scoped>\n",
       "    .dataframe tbody tr th:only-of-type {\n",
       "        vertical-align: middle;\n",
       "    }\n",
       "\n",
       "    .dataframe tbody tr th {\n",
       "        vertical-align: top;\n",
       "    }\n",
       "\n",
       "    .dataframe thead th {\n",
       "        text-align: right;\n",
       "    }\n",
       "</style>\n",
       "<table border=\"1\" class=\"dataframe\">\n",
       "  <thead>\n",
       "    <tr style=\"text-align: right;\">\n",
       "      <th></th>\n",
       "      <th>event</th>\n",
       "      <th>person_id</th>\n",
       "      <th>offer_id</th>\n",
       "      <th>reward_amt</th>\n",
       "      <th>purchase_amt</th>\n",
       "      <th>reward_offer</th>\n",
       "      <th>channels</th>\n",
       "      <th>difficulty</th>\n",
       "      <th>duration</th>\n",
       "      <th>offer_type</th>\n",
       "      <th>day_month</th>\n",
       "    </tr>\n",
       "  </thead>\n",
       "  <tbody>\n",
       "    <tr>\n",
       "      <th>239823</th>\n",
       "      <td>no offer</td>\n",
       "      <td>1852fd4c</td>\n",
       "      <td>xxxxxx</td>\n",
       "      <td>0</td>\n",
       "      <td>2.80</td>\n",
       "      <td>NaN</td>\n",
       "      <td>NaN</td>\n",
       "      <td>NaN</td>\n",
       "      <td>NaN</td>\n",
       "      <td>NaN</td>\n",
       "      <td>24</td>\n",
       "    </tr>\n",
       "    <tr>\n",
       "      <th>148695</th>\n",
       "      <td>no offer</td>\n",
       "      <td>5532539d</td>\n",
       "      <td>xxxxxx</td>\n",
       "      <td>0</td>\n",
       "      <td>19.08</td>\n",
       "      <td>NaN</td>\n",
       "      <td>NaN</td>\n",
       "      <td>NaN</td>\n",
       "      <td>NaN</td>\n",
       "      <td>NaN</td>\n",
       "      <td>17</td>\n",
       "    </tr>\n",
       "    <tr>\n",
       "      <th>302969</th>\n",
       "      <td>offer completed</td>\n",
       "      <td>86991c80</td>\n",
       "      <td>2298d6</td>\n",
       "      <td>3</td>\n",
       "      <td>0.00</td>\n",
       "      <td>3.0</td>\n",
       "      <td>emsw</td>\n",
       "      <td>7.0</td>\n",
       "      <td>7.0</td>\n",
       "      <td>discount</td>\n",
       "      <td>30</td>\n",
       "    </tr>\n",
       "    <tr>\n",
       "      <th>128881</th>\n",
       "      <td>offer viewed</td>\n",
       "      <td>1929135b</td>\n",
       "      <td>4d5c57</td>\n",
       "      <td>0</td>\n",
       "      <td>0.00</td>\n",
       "      <td>10.0</td>\n",
       "      <td>emsw</td>\n",
       "      <td>10.0</td>\n",
       "      <td>5.0</td>\n",
       "      <td>bogo</td>\n",
       "      <td>15</td>\n",
       "    </tr>\n",
       "    <tr>\n",
       "      <th>222794</th>\n",
       "      <td>offer viewed</td>\n",
       "      <td>58566614</td>\n",
       "      <td>9b98b8</td>\n",
       "      <td>0</td>\n",
       "      <td>0.00</td>\n",
       "      <td>5.0</td>\n",
       "      <td>emw</td>\n",
       "      <td>5.0</td>\n",
       "      <td>7.0</td>\n",
       "      <td>bogo</td>\n",
       "      <td>22</td>\n",
       "    </tr>\n",
       "    <tr>\n",
       "      <th>103947</th>\n",
       "      <td>no offer</td>\n",
       "      <td>3723ab43</td>\n",
       "      <td>xxxxxx</td>\n",
       "      <td>0</td>\n",
       "      <td>3.44</td>\n",
       "      <td>NaN</td>\n",
       "      <td>NaN</td>\n",
       "      <td>NaN</td>\n",
       "      <td>NaN</td>\n",
       "      <td>NaN</td>\n",
       "      <td>13</td>\n",
       "    </tr>\n",
       "    <tr>\n",
       "      <th>5930</th>\n",
       "      <td>offer received</td>\n",
       "      <td>954b2140</td>\n",
       "      <td>2298d6</td>\n",
       "      <td>0</td>\n",
       "      <td>0.00</td>\n",
       "      <td>3.0</td>\n",
       "      <td>emsw</td>\n",
       "      <td>7.0</td>\n",
       "      <td>7.0</td>\n",
       "      <td>discount</td>\n",
       "      <td>1</td>\n",
       "    </tr>\n",
       "    <tr>\n",
       "      <th>119762</th>\n",
       "      <td>offer received</td>\n",
       "      <td>7aabd3e6</td>\n",
       "      <td>f19421</td>\n",
       "      <td>0</td>\n",
       "      <td>0.00</td>\n",
       "      <td>5.0</td>\n",
       "      <td>emsw</td>\n",
       "      <td>5.0</td>\n",
       "      <td>5.0</td>\n",
       "      <td>bogo</td>\n",
       "      <td>15</td>\n",
       "    </tr>\n",
       "    <tr>\n",
       "      <th>276603</th>\n",
       "      <td>no offer</td>\n",
       "      <td>ef8f6714</td>\n",
       "      <td>xxxxxx</td>\n",
       "      <td>0</td>\n",
       "      <td>22.43</td>\n",
       "      <td>NaN</td>\n",
       "      <td>NaN</td>\n",
       "      <td>NaN</td>\n",
       "      <td>NaN</td>\n",
       "      <td>NaN</td>\n",
       "      <td>26</td>\n",
       "    </tr>\n",
       "    <tr>\n",
       "      <th>95702</th>\n",
       "      <td>no offer</td>\n",
       "      <td>efef288a</td>\n",
       "      <td>xxxxxx</td>\n",
       "      <td>0</td>\n",
       "      <td>4.11</td>\n",
       "      <td>NaN</td>\n",
       "      <td>NaN</td>\n",
       "      <td>NaN</td>\n",
       "      <td>NaN</td>\n",
       "      <td>NaN</td>\n",
       "      <td>11</td>\n",
       "    </tr>\n",
       "  </tbody>\n",
       "</table>\n",
       "</div>"
      ],
      "text/plain": [
       "                  event person_id offer_id  reward_amt  purchase_amt  \\\n",
       "239823         no offer  1852fd4c   xxxxxx           0          2.80   \n",
       "148695         no offer  5532539d   xxxxxx           0         19.08   \n",
       "302969  offer completed  86991c80   2298d6           3          0.00   \n",
       "128881     offer viewed  1929135b   4d5c57           0          0.00   \n",
       "222794     offer viewed  58566614   9b98b8           0          0.00   \n",
       "103947         no offer  3723ab43   xxxxxx           0          3.44   \n",
       "5930     offer received  954b2140   2298d6           0          0.00   \n",
       "119762   offer received  7aabd3e6   f19421           0          0.00   \n",
       "276603         no offer  ef8f6714   xxxxxx           0         22.43   \n",
       "95702          no offer  efef288a   xxxxxx           0          4.11   \n",
       "\n",
       "        reward_offer channels  difficulty  duration offer_type  day_month  \n",
       "239823           NaN      NaN         NaN       NaN        NaN         24  \n",
       "148695           NaN      NaN         NaN       NaN        NaN         17  \n",
       "302969           3.0     emsw         7.0       7.0   discount         30  \n",
       "128881          10.0     emsw        10.0       5.0       bogo         15  \n",
       "222794           5.0      emw         5.0       7.0       bogo         22  \n",
       "103947           NaN      NaN         NaN       NaN        NaN         13  \n",
       "5930             3.0     emsw         7.0       7.0   discount          1  \n",
       "119762           5.0     emsw         5.0       5.0       bogo         15  \n",
       "276603           NaN      NaN         NaN       NaN        NaN         26  \n",
       "95702            NaN      NaN         NaN       NaN        NaN         11  "
      ]
     },
     "execution_count": 4,
     "metadata": {},
     "output_type": "execute_result"
    }
   ],
   "source": [
    "# Show a sample of transactions data\n",
    "##This is already merged with information about offers\n",
    "dfinfo.sample(10, random_state = 1)"
   ]
  },
  {
   "cell_type": "code",
   "execution_count": 5,
   "id": "known-indie",
   "metadata": {},
   "outputs": [],
   "source": [
    "# Merge the two datasets: transactions & people \n",
    "dfinfo = pd.merge(dfinfo, dfppl, on= 'person_id', how= 'left', sort= False)"
   ]
  },
  {
   "cell_type": "markdown",
   "id": "racial-hydrogen",
   "metadata": {},
   "source": [
    "### Day of Month"
   ]
  },
  {
   "cell_type": "code",
   "execution_count": 6,
   "id": "emerging-rhythm",
   "metadata": {},
   "outputs": [
    {
     "data": {
      "text/plain": [
       "<AxesSubplot:>"
      ]
     },
     "execution_count": 6,
     "metadata": {},
     "output_type": "execute_result"
    },
    {
     "data": {
      "image/png": "[encoded data removed]",
      "text/plain": [
       "<Figure size 432x288 with 1 Axes>"
      ]
     },
     "metadata": {
      "needs_background": "light"
     },
     "output_type": "display_data"
    }
   ],
   "source": [
    "dfinfo['day_month'].value_counts().sort_index().plot.bar()"
   ]
  },
  {
   "cell_type": "code",
   "execution_count": 7,
   "id": "collective-family",
   "metadata": {},
   "outputs": [
    {
     "data": {
      "text/plain": [
       "(61412, 15)"
      ]
     },
     "execution_count": 7,
     "metadata": {},
     "output_type": "execute_result"
    }
   ],
   "source": [
    "# I'll keep these transactions as test\n",
    "dfinfo.loc[dfinfo['day_month'] >= 25].shape"
   ]
  },
  {
   "cell_type": "code",
   "execution_count": 8,
   "id": "sophisticated-hello",
   "metadata": {},
   "outputs": [
    {
     "data": {
      "text/plain": [
       "(245122, 15)"
      ]
     },
     "execution_count": 8,
     "metadata": {},
     "output_type": "execute_result"
    }
   ],
   "source": [
    "# I'll use these transactions as training\n",
    "dfinfo.loc[dfinfo['day_month'] < 25].shape"
   ]
  },
  {
   "cell_type": "code",
   "execution_count": null,
   "id": "short-norfolk",
   "metadata": {},
   "outputs": [],
   "source": []
  },
  {
   "cell_type": "code",
   "execution_count": 9,
   "id": "domestic-riverside",
   "metadata": {},
   "outputs": [],
   "source": [
    "dfinfo = dfinfo.loc[dfinfo['day_month'] < 25]"
   ]
  },
  {
   "cell_type": "code",
   "execution_count": 10,
   "id": "growing-numbers",
   "metadata": {},
   "outputs": [
    {
     "data": {
      "text/plain": [
       "no offer           108421\n",
       "offer received      63512\n",
       "offer viewed        47411\n",
       "offer completed     25778\n",
       "Name: event, dtype: int64"
      ]
     },
     "execution_count": 10,
     "metadata": {},
     "output_type": "execute_result"
    }
   ],
   "source": [
    "dfinfo['event'].value_counts()"
   ]
  },
  {
   "cell_type": "code",
   "execution_count": 11,
   "id": "imported-counter",
   "metadata": {},
   "outputs": [
    {
     "data": {
      "text/plain": [
       "<AxesSubplot:>"
      ]
     },
     "execution_count": 11,
     "metadata": {},
     "output_type": "execute_result"
    },
    {
     "data": {
      "image/png": "[encoded data removed]",
      "text/plain": [
       "<Figure size 432x288 with 1 Axes>"
      ]
     },
     "metadata": {
      "needs_background": "light"
     },
     "output_type": "display_data"
    }
   ],
   "source": [
    "dfinfo.loc[dfinfo['event'] == 'no offer', 'day_month'].value_counts().sort_index().plot.bar()"
   ]
  },
  {
   "cell_type": "code",
   "execution_count": 12,
   "id": "different-spice",
   "metadata": {},
   "outputs": [
    {
     "data": {
      "text/plain": [
       "<AxesSubplot:>"
      ]
     },
     "execution_count": 12,
     "metadata": {},
     "output_type": "execute_result"
    },
    {
     "data": {
      "image/png": "[encoded data removed]",
      "text/plain": [
       "<Figure size 432x288 with 1 Axes>"
      ]
     },
     "metadata": {
      "needs_background": "light"
     },
     "output_type": "display_data"
    }
   ],
   "source": [
    "dfinfo.loc[dfinfo['event'].str.contains('completed'), 'day_month'].value_counts().sort_index().plot.bar()"
   ]
  },
  {
   "cell_type": "code",
   "execution_count": 13,
   "id": "basic-philadelphia",
   "metadata": {},
   "outputs": [
    {
     "data": {
      "text/plain": [
       "<AxesSubplot:>"
      ]
     },
     "execution_count": 13,
     "metadata": {},
     "output_type": "execute_result"
    },
    {
     "data": {
      "image/png": "[encoded data removed]",
      "text/plain": [
       "<Figure size 432x288 with 1 Axes>"
      ]
     },
     "metadata": {
      "needs_background": "light"
     },
     "output_type": "display_data"
    }
   ],
   "source": [
    "dfinfo.loc[dfinfo['event'].str.contains('viewed'), 'day_month'].value_counts().sort_index().plot.bar()"
   ]
  },
  {
   "cell_type": "code",
   "execution_count": 14,
   "id": "abstract-grant",
   "metadata": {},
   "outputs": [
    {
     "data": {
      "text/plain": [
       "<AxesSubplot:>"
      ]
     },
     "execution_count": 14,
     "metadata": {},
     "output_type": "execute_result"
    },
    {
     "data": {
      "image/png": "[encoded data removed]",
      "text/plain": [
       "<Figure size 432x288 with 1 Axes>"
      ]
     },
     "metadata": {
      "needs_background": "light"
     },
     "output_type": "display_data"
    }
   ],
   "source": [
    "dfinfo.loc[dfinfo['event'].str.contains('received'), 'day_month'].value_counts().sort_index().plot.bar()"
   ]
  },
  {
   "cell_type": "markdown",
   "id": "comparable-satisfaction",
   "metadata": {},
   "source": [
    "Observing the plots, I gather that every 7 days a _wave_ of promotional offers is sent to people. However, most of the action happens at the first day, and the next two days after.\n",
    "So, perhaps it's better to make wave every 3 days or twice a week. An A/B experiment could be to compare these two scenarios together. Especially you can see this when promotional offers is sent 3 days after day 18, same actions - i.e., completing the offer - happens. "
   ]
  },
  {
   "cell_type": "code",
   "execution_count": null,
   "id": "handy-junction",
   "metadata": {},
   "outputs": [],
   "source": []
  },
  {
   "cell_type": "markdown",
   "id": "changed-craps",
   "metadata": {},
   "source": [
    "### Gender"
   ]
  },
  {
   "cell_type": "code",
   "execution_count": 15,
   "id": "unavailable-locator",
   "metadata": {},
   "outputs": [],
   "source": [
    "def make_pivot_table(df, idx, col):\n",
    "    \"\"\"A helper function to make frequency table.\n",
    "    \n",
    "    Arguments\n",
    "    --------------\n",
    "    df {dataframe}\n",
    "    idx {index/row}\n",
    "    col {column variable}\n",
    "    \n",
    "    Returns\n",
    "    --------------\n",
    "    Rowwise normalized frequency table\n",
    "    \"\"\"\n",
    "    res = pd.crosstab(df[idx], df[col], dropna= False).apply(lambda r: r/r.sum(), axis=1)\n",
    "    return res.round(2) "
   ]
  },
  {
   "cell_type": "code",
   "execution_count": 16,
   "id": "rough-showcase",
   "metadata": {},
   "outputs": [
    {
     "data": {
      "text/html": [
       "<div>\n",
       "<style scoped>\n",
       "    .dataframe tbody tr th:only-of-type {\n",
       "        vertical-align: middle;\n",
       "    }\n",
       "\n",
       "    .dataframe tbody tr th {\n",
       "        vertical-align: top;\n",
       "    }\n",
       "\n",
       "    .dataframe thead th {\n",
       "        text-align: right;\n",
       "    }\n",
       "</style>\n",
       "<table border=\"1\" class=\"dataframe\">\n",
       "  <thead>\n",
       "    <tr style=\"text-align: right;\">\n",
       "      <th>event</th>\n",
       "      <th>no offer</th>\n",
       "      <th>offer completed</th>\n",
       "      <th>offer received</th>\n",
       "      <th>offer viewed</th>\n",
       "    </tr>\n",
       "    <tr>\n",
       "      <th>gender</th>\n",
       "      <th></th>\n",
       "      <th></th>\n",
       "      <th></th>\n",
       "      <th></th>\n",
       "    </tr>\n",
       "  </thead>\n",
       "  <tbody>\n",
       "    <tr>\n",
       "      <th>F</th>\n",
       "      <td>0.43</td>\n",
       "      <td>0.13</td>\n",
       "      <td>0.25</td>\n",
       "      <td>0.19</td>\n",
       "    </tr>\n",
       "    <tr>\n",
       "      <th>M</th>\n",
       "      <td>0.46</td>\n",
       "      <td>0.10</td>\n",
       "      <td>0.26</td>\n",
       "      <td>0.19</td>\n",
       "    </tr>\n",
       "  </tbody>\n",
       "</table>\n",
       "</div>"
      ],
      "text/plain": [
       "event   no offer  offer completed  offer received  offer viewed\n",
       "gender                                                         \n",
       "F           0.43             0.13            0.25          0.19\n",
       "M           0.46             0.10            0.26          0.19"
      ]
     },
     "execution_count": 16,
     "metadata": {},
     "output_type": "execute_result"
    }
   ],
   "source": [
    "make_pivot_table(dfinfo, 'gender', 'event')"
   ]
  },
  {
   "cell_type": "markdown",
   "id": "hawaiian-joshua",
   "metadata": {},
   "source": [
    "Here, we can see that women tend to complete the offers more. But men tend to purchase more even without a promo. So, more promo offers for women than men?"
   ]
  },
  {
   "cell_type": "code",
   "execution_count": 17,
   "id": "superior-grill",
   "metadata": {},
   "outputs": [
    {
     "data": {
      "text/html": [
       "<div>\n",
       "<style scoped>\n",
       "    .dataframe tbody tr th:only-of-type {\n",
       "        vertical-align: middle;\n",
       "    }\n",
       "\n",
       "    .dataframe tbody tr th {\n",
       "        vertical-align: top;\n",
       "    }\n",
       "\n",
       "    .dataframe thead th {\n",
       "        text-align: right;\n",
       "    }\n",
       "</style>\n",
       "<table border=\"1\" class=\"dataframe\">\n",
       "  <thead>\n",
       "    <tr style=\"text-align: right;\">\n",
       "      <th>event</th>\n",
       "      <th>offer completed</th>\n",
       "      <th>offer received</th>\n",
       "      <th>offer viewed</th>\n",
       "    </tr>\n",
       "    <tr>\n",
       "      <th>gender</th>\n",
       "      <th></th>\n",
       "      <th></th>\n",
       "      <th></th>\n",
       "    </tr>\n",
       "  </thead>\n",
       "  <tbody>\n",
       "    <tr>\n",
       "      <th>F</th>\n",
       "      <td>0.28</td>\n",
       "      <td>0.42</td>\n",
       "      <td>0.29</td>\n",
       "    </tr>\n",
       "    <tr>\n",
       "      <th>M</th>\n",
       "      <td>0.24</td>\n",
       "      <td>0.46</td>\n",
       "      <td>0.31</td>\n",
       "    </tr>\n",
       "  </tbody>\n",
       "</table>\n",
       "</div>"
      ],
      "text/plain": [
       "event   offer completed  offer received  offer viewed\n",
       "gender                                               \n",
       "F                  0.28            0.42          0.29\n",
       "M                  0.24            0.46          0.31"
      ]
     },
     "execution_count": 17,
     "metadata": {},
     "output_type": "execute_result"
    }
   ],
   "source": [
    "make_pivot_table(dfinfo.loc[dfinfo['offer_type'] == 'discount'], 'gender', 'event')"
   ]
  },
  {
   "cell_type": "code",
   "execution_count": 18,
   "id": "blond-possession",
   "metadata": {},
   "outputs": [
    {
     "data": {
      "text/html": [
       "<div>\n",
       "<style scoped>\n",
       "    .dataframe tbody tr th:only-of-type {\n",
       "        vertical-align: middle;\n",
       "    }\n",
       "\n",
       "    .dataframe tbody tr th {\n",
       "        vertical-align: top;\n",
       "    }\n",
       "\n",
       "    .dataframe thead th {\n",
       "        text-align: right;\n",
       "    }\n",
       "</style>\n",
       "<table border=\"1\" class=\"dataframe\">\n",
       "  <thead>\n",
       "    <tr style=\"text-align: right;\">\n",
       "      <th>event</th>\n",
       "      <th>offer completed</th>\n",
       "      <th>offer received</th>\n",
       "      <th>offer viewed</th>\n",
       "    </tr>\n",
       "    <tr>\n",
       "      <th>gender</th>\n",
       "      <th></th>\n",
       "      <th></th>\n",
       "      <th></th>\n",
       "    </tr>\n",
       "  </thead>\n",
       "  <tbody>\n",
       "    <tr>\n",
       "      <th>F</th>\n",
       "      <td>0.26</td>\n",
       "      <td>0.41</td>\n",
       "      <td>0.33</td>\n",
       "    </tr>\n",
       "    <tr>\n",
       "      <th>M</th>\n",
       "      <td>0.20</td>\n",
       "      <td>0.44</td>\n",
       "      <td>0.36</td>\n",
       "    </tr>\n",
       "  </tbody>\n",
       "</table>\n",
       "</div>"
      ],
      "text/plain": [
       "event   offer completed  offer received  offer viewed\n",
       "gender                                               \n",
       "F                  0.26            0.41          0.33\n",
       "M                  0.20            0.44          0.36"
      ]
     },
     "execution_count": 18,
     "metadata": {},
     "output_type": "execute_result"
    }
   ],
   "source": [
    "make_pivot_table(dfinfo.loc[dfinfo['offer_type'] == 'bogo'], 'gender', 'event')"
   ]
  },
  {
   "cell_type": "markdown",
   "id": "recorded-simon",
   "metadata": {},
   "source": [
    "As we see, the conversion rate for `discount` offer is more than that of `bogo` for both genders. Especially, __men__ tend to prefer the __discount__: as you could see eventhough higher percentage of men _view_ the received bogo promo, as opposed to the discount, it's just not interesting enough for them.   \n",
    "\n",
    "On the other hand, the preference of discount over bogo offer for women is not that stark. So, perhaps, we could send more bogo to women and more discount to men? This could be really interesting source of insight if combined with other demographic data, like if we get their facebook data. "
   ]
  },
  {
   "cell_type": "code",
   "execution_count": null,
   "id": "competitive-being",
   "metadata": {},
   "outputs": [],
   "source": []
  },
  {
   "cell_type": "markdown",
   "id": "competitive-boulder",
   "metadata": {},
   "source": [
    "### Offer Type"
   ]
  },
  {
   "cell_type": "markdown",
   "id": "lesbian-electricity",
   "metadata": {},
   "source": [
    "Here, I'm comparing two `discount` offer that are interestingly different. Basically I'm going to see how influential are __duration__, __difficulty__, and the offered __reward__ for discount offers. So, in the following table, we see that for one offer we need to spend at least 7USD, and the reward is 3USD. Interestingly, the latter requires 10USD purchase, for a reward of 2USD."
   ]
  },
  {
   "cell_type": "code",
   "execution_count": 19,
   "id": "dietary-teens",
   "metadata": {},
   "outputs": [
    {
     "data": {
      "text/html": [
       "<div>\n",
       "<style scoped>\n",
       "    .dataframe tbody tr th:only-of-type {\n",
       "        vertical-align: middle;\n",
       "    }\n",
       "\n",
       "    .dataframe tbody tr th {\n",
       "        vertical-align: top;\n",
       "    }\n",
       "\n",
       "    .dataframe thead th {\n",
       "        text-align: right;\n",
       "    }\n",
       "</style>\n",
       "<table border=\"1\" class=\"dataframe\">\n",
       "  <thead>\n",
       "    <tr style=\"text-align: right;\">\n",
       "      <th></th>\n",
       "      <th>reward_offer</th>\n",
       "      <th>channels</th>\n",
       "      <th>difficulty</th>\n",
       "      <th>duration</th>\n",
       "      <th>offer_type</th>\n",
       "      <th>offer_id</th>\n",
       "    </tr>\n",
       "  </thead>\n",
       "  <tbody>\n",
       "    <tr>\n",
       "      <th>5</th>\n",
       "      <td>3</td>\n",
       "      <td>emsw</td>\n",
       "      <td>7</td>\n",
       "      <td>7</td>\n",
       "      <td>discount</td>\n",
       "      <td>2298d6</td>\n",
       "    </tr>\n",
       "    <tr>\n",
       "      <th>6</th>\n",
       "      <td>2</td>\n",
       "      <td>emsw</td>\n",
       "      <td>10</td>\n",
       "      <td>10</td>\n",
       "      <td>discount</td>\n",
       "      <td>fafdcd</td>\n",
       "    </tr>\n",
       "  </tbody>\n",
       "</table>\n",
       "</div>"
      ],
      "text/plain": [
       "   reward_offer channels  difficulty  duration offer_type offer_id\n",
       "5             3     emsw           7         7   discount   2298d6\n",
       "6             2     emsw          10        10   discount   fafdcd"
      ]
     },
     "execution_count": 19,
     "metadata": {},
     "output_type": "execute_result"
    }
   ],
   "source": [
    "ids_discount = ['2298d6', 'fafdcd']\n",
    "dfportfo.loc[dfportfo['offer_id'].isin(ids_discount)]"
   ]
  },
  {
   "cell_type": "code",
   "execution_count": 23,
   "id": "confirmed-pledge",
   "metadata": {},
   "outputs": [
    {
     "data": {
      "text/html": [
       "<div>\n",
       "<style scoped>\n",
       "    .dataframe tbody tr th:only-of-type {\n",
       "        vertical-align: middle;\n",
       "    }\n",
       "\n",
       "    .dataframe tbody tr th {\n",
       "        vertical-align: top;\n",
       "    }\n",
       "\n",
       "    .dataframe thead th {\n",
       "        text-align: right;\n",
       "    }\n",
       "</style>\n",
       "<table border=\"1\" class=\"dataframe\">\n",
       "  <thead>\n",
       "    <tr style=\"text-align: right;\">\n",
       "      <th>event</th>\n",
       "      <th>offer completed</th>\n",
       "      <th>offer received</th>\n",
       "      <th>offer viewed</th>\n",
       "    </tr>\n",
       "    <tr>\n",
       "      <th>offer_id</th>\n",
       "      <th></th>\n",
       "      <th></th>\n",
       "      <th></th>\n",
       "    </tr>\n",
       "  </thead>\n",
       "  <tbody>\n",
       "    <tr>\n",
       "      <th>2298d6</th>\n",
       "      <td>0.24</td>\n",
       "      <td>0.39</td>\n",
       "      <td>0.37</td>\n",
       "    </tr>\n",
       "    <tr>\n",
       "      <th>fafdcd</th>\n",
       "      <td>0.25</td>\n",
       "      <td>0.39</td>\n",
       "      <td>0.37</td>\n",
       "    </tr>\n",
       "  </tbody>\n",
       "</table>\n",
       "</div>"
      ],
      "text/plain": [
       "event     offer completed  offer received  offer viewed\n",
       "offer_id                                               \n",
       "2298d6               0.24            0.39          0.37\n",
       "fafdcd               0.25            0.39          0.37"
      ]
     },
     "execution_count": 23,
     "metadata": {},
     "output_type": "execute_result"
    }
   ],
   "source": [
    "# Subset the data to only have those offer_ids of interest\n",
    "df = dfinfo.loc[dfinfo['offer_id'].isin(ids_discount)]\n",
    "# Make the frequency plot for it\n",
    "make_pivot_table(df, 'offer_id', 'event')"
   ]
  },
  {
   "cell_type": "code",
   "execution_count": 25,
   "id": "documented-walker",
   "metadata": {},
   "outputs": [
    {
     "data": {
      "text/html": [
       "<div>\n",
       "<style scoped>\n",
       "    .dataframe tbody tr th:only-of-type {\n",
       "        vertical-align: middle;\n",
       "    }\n",
       "\n",
       "    .dataframe tbody tr th {\n",
       "        vertical-align: top;\n",
       "    }\n",
       "\n",
       "    .dataframe thead th {\n",
       "        text-align: right;\n",
       "    }\n",
       "</style>\n",
       "<table border=\"1\" class=\"dataframe\">\n",
       "  <thead>\n",
       "    <tr style=\"text-align: right;\">\n",
       "      <th>event</th>\n",
       "      <th>offer completed</th>\n",
       "      <th>offer received</th>\n",
       "      <th>offer viewed</th>\n",
       "    </tr>\n",
       "    <tr>\n",
       "      <th>offer_id</th>\n",
       "      <th></th>\n",
       "      <th></th>\n",
       "      <th></th>\n",
       "    </tr>\n",
       "  </thead>\n",
       "  <tbody>\n",
       "    <tr>\n",
       "      <th>2298d6</th>\n",
       "      <td>0.24</td>\n",
       "      <td>0.39</td>\n",
       "      <td>0.37</td>\n",
       "    </tr>\n",
       "    <tr>\n",
       "      <th>fafdcd</th>\n",
       "      <td>0.25</td>\n",
       "      <td>0.39</td>\n",
       "      <td>0.37</td>\n",
       "    </tr>\n",
       "  </tbody>\n",
       "</table>\n",
       "</div>"
      ],
      "text/plain": [
       "event     offer completed  offer received  offer viewed\n",
       "offer_id                                               \n",
       "2298d6               0.24            0.39          0.37\n",
       "fafdcd               0.25            0.39          0.37"
      ]
     },
     "execution_count": 25,
     "metadata": {},
     "output_type": "execute_result"
    }
   ],
   "source": [
    "# And if we get deeper, and only analyze the men we have:\n",
    "make_pivot_table(df.loc[df['gender'] == 'M'], 'offer_id', 'event')"
   ]
  },
  {
   "cell_type": "markdown",
   "id": "harmful-lyric",
   "metadata": {},
   "source": [
    "We've already established that men prefer discount more (than bogo). Here, we notice that __difficulty__ is not that much important. "
   ]
  },
  {
   "cell_type": "code",
   "execution_count": null,
   "id": "incredible-alarm",
   "metadata": {},
   "outputs": [],
   "source": []
  },
  {
   "cell_type": "markdown",
   "id": "generous-chuck",
   "metadata": {},
   "source": [
    "Similarly, let's investigate two `bogo` offer that are different only in __difficulty__ and __reward__. Basically, one is more expensive than another. You can see the information in table bellow."
   ]
  },
  {
   "cell_type": "code",
   "execution_count": 27,
   "id": "exposed-upset",
   "metadata": {},
   "outputs": [
    {
     "data": {
      "text/html": [
       "<div>\n",
       "<style scoped>\n",
       "    .dataframe tbody tr th:only-of-type {\n",
       "        vertical-align: middle;\n",
       "    }\n",
       "\n",
       "    .dataframe tbody tr th {\n",
       "        vertical-align: top;\n",
       "    }\n",
       "\n",
       "    .dataframe thead th {\n",
       "        text-align: right;\n",
       "    }\n",
       "</style>\n",
       "<table border=\"1\" class=\"dataframe\">\n",
       "  <thead>\n",
       "    <tr style=\"text-align: right;\">\n",
       "      <th></th>\n",
       "      <th>reward_offer</th>\n",
       "      <th>channels</th>\n",
       "      <th>difficulty</th>\n",
       "      <th>duration</th>\n",
       "      <th>offer_type</th>\n",
       "      <th>offer_id</th>\n",
       "    </tr>\n",
       "  </thead>\n",
       "  <tbody>\n",
       "    <tr>\n",
       "      <th>1</th>\n",
       "      <td>10</td>\n",
       "      <td>emsw</td>\n",
       "      <td>10</td>\n",
       "      <td>5</td>\n",
       "      <td>bogo</td>\n",
       "      <td>4d5c57</td>\n",
       "    </tr>\n",
       "    <tr>\n",
       "      <th>8</th>\n",
       "      <td>5</td>\n",
       "      <td>emsw</td>\n",
       "      <td>5</td>\n",
       "      <td>5</td>\n",
       "      <td>bogo</td>\n",
       "      <td>f19421</td>\n",
       "    </tr>\n",
       "  </tbody>\n",
       "</table>\n",
       "</div>"
      ],
      "text/plain": [
       "   reward_offer channels  difficulty  duration offer_type offer_id\n",
       "1            10     emsw          10         5       bogo   4d5c57\n",
       "8             5     emsw           5         5       bogo   f19421"
      ]
     },
     "execution_count": 27,
     "metadata": {},
     "output_type": "execute_result"
    }
   ],
   "source": [
    "# Subset data for the following two ids for bogo offers\n",
    "ids_bogo = ['4d5c57', 'f19421']\n",
    "dfportfo.loc[dfportfo['offer_id'].isin(ids_bogo)]"
   ]
  },
  {
   "cell_type": "code",
   "execution_count": 28,
   "id": "bronze-makeup",
   "metadata": {},
   "outputs": [
    {
     "data": {
      "text/html": [
       "<div>\n",
       "<style scoped>\n",
       "    .dataframe tbody tr th:only-of-type {\n",
       "        vertical-align: middle;\n",
       "    }\n",
       "\n",
       "    .dataframe tbody tr th {\n",
       "        vertical-align: top;\n",
       "    }\n",
       "\n",
       "    .dataframe thead th {\n",
       "        text-align: right;\n",
       "    }\n",
       "</style>\n",
       "<table border=\"1\" class=\"dataframe\">\n",
       "  <thead>\n",
       "    <tr style=\"text-align: right;\">\n",
       "      <th>event</th>\n",
       "      <th>offer completed</th>\n",
       "      <th>offer received</th>\n",
       "      <th>offer viewed</th>\n",
       "    </tr>\n",
       "    <tr>\n",
       "      <th>offer_id</th>\n",
       "      <th></th>\n",
       "      <th></th>\n",
       "      <th></th>\n",
       "    </tr>\n",
       "  </thead>\n",
       "  <tbody>\n",
       "    <tr>\n",
       "      <th>4d5c57</th>\n",
       "      <td>0.18</td>\n",
       "      <td>0.42</td>\n",
       "      <td>0.40</td>\n",
       "    </tr>\n",
       "    <tr>\n",
       "      <th>f19421</th>\n",
       "      <td>0.22</td>\n",
       "      <td>0.40</td>\n",
       "      <td>0.38</td>\n",
       "    </tr>\n",
       "  </tbody>\n",
       "</table>\n",
       "</div>"
      ],
      "text/plain": [
       "event     offer completed  offer received  offer viewed\n",
       "offer_id                                               \n",
       "4d5c57               0.18            0.42          0.40\n",
       "f19421               0.22            0.40          0.38"
      ]
     },
     "execution_count": 28,
     "metadata": {},
     "output_type": "execute_result"
    }
   ],
   "source": [
    "df2 = dfinfo.loc[dfinfo['offer_id'].isin(ids_bogo)]\n",
    "\n",
    "make_pivot_table(df2, 'offer_id', 'event')"
   ]
  },
  {
   "cell_type": "code",
   "execution_count": 29,
   "id": "informative-academy",
   "metadata": {},
   "outputs": [
    {
     "data": {
      "text/html": [
       "<div>\n",
       "<style scoped>\n",
       "    .dataframe tbody tr th:only-of-type {\n",
       "        vertical-align: middle;\n",
       "    }\n",
       "\n",
       "    .dataframe tbody tr th {\n",
       "        vertical-align: top;\n",
       "    }\n",
       "\n",
       "    .dataframe thead th {\n",
       "        text-align: right;\n",
       "    }\n",
       "</style>\n",
       "<table border=\"1\" class=\"dataframe\">\n",
       "  <thead>\n",
       "    <tr style=\"text-align: right;\">\n",
       "      <th>event</th>\n",
       "      <th>offer completed</th>\n",
       "      <th>offer received</th>\n",
       "      <th>offer viewed</th>\n",
       "    </tr>\n",
       "    <tr>\n",
       "      <th>offer_id</th>\n",
       "      <th></th>\n",
       "      <th></th>\n",
       "      <th></th>\n",
       "    </tr>\n",
       "  </thead>\n",
       "  <tbody>\n",
       "    <tr>\n",
       "      <th>4d5c57</th>\n",
       "      <td>0.24</td>\n",
       "      <td>0.39</td>\n",
       "      <td>0.37</td>\n",
       "    </tr>\n",
       "    <tr>\n",
       "      <th>f19421</th>\n",
       "      <td>0.25</td>\n",
       "      <td>0.38</td>\n",
       "      <td>0.36</td>\n",
       "    </tr>\n",
       "  </tbody>\n",
       "</table>\n",
       "</div>"
      ],
      "text/plain": [
       "event     offer completed  offer received  offer viewed\n",
       "offer_id                                               \n",
       "4d5c57               0.24            0.39          0.37\n",
       "f19421               0.25            0.38          0.36"
      ]
     },
     "execution_count": 29,
     "metadata": {},
     "output_type": "execute_result"
    }
   ],
   "source": [
    "make_pivot_table(df2.loc[df2['gender'] == 'F'], 'offer_id', 'event')"
   ]
  },
  {
   "cell_type": "code",
   "execution_count": 30,
   "id": "solid-parker",
   "metadata": {},
   "outputs": [
    {
     "data": {
      "text/html": [
       "<div>\n",
       "<style scoped>\n",
       "    .dataframe tbody tr th:only-of-type {\n",
       "        vertical-align: middle;\n",
       "    }\n",
       "\n",
       "    .dataframe tbody tr th {\n",
       "        vertical-align: top;\n",
       "    }\n",
       "\n",
       "    .dataframe thead th {\n",
       "        text-align: right;\n",
       "    }\n",
       "</style>\n",
       "<table border=\"1\" class=\"dataframe\">\n",
       "  <thead>\n",
       "    <tr style=\"text-align: right;\">\n",
       "      <th>event</th>\n",
       "      <th>offer completed</th>\n",
       "      <th>offer received</th>\n",
       "      <th>offer viewed</th>\n",
       "    </tr>\n",
       "    <tr>\n",
       "      <th>offer_id</th>\n",
       "      <th></th>\n",
       "      <th></th>\n",
       "      <th></th>\n",
       "    </tr>\n",
       "  </thead>\n",
       "  <tbody>\n",
       "    <tr>\n",
       "      <th>4d5c57</th>\n",
       "      <td>0.16</td>\n",
       "      <td>0.43</td>\n",
       "      <td>0.41</td>\n",
       "    </tr>\n",
       "    <tr>\n",
       "      <th>f19421</th>\n",
       "      <td>0.22</td>\n",
       "      <td>0.40</td>\n",
       "      <td>0.38</td>\n",
       "    </tr>\n",
       "  </tbody>\n",
       "</table>\n",
       "</div>"
      ],
      "text/plain": [
       "event     offer completed  offer received  offer viewed\n",
       "offer_id                                               \n",
       "4d5c57               0.16            0.43          0.41\n",
       "f19421               0.22            0.40          0.38"
      ]
     },
     "execution_count": 30,
     "metadata": {},
     "output_type": "execute_result"
    }
   ],
   "source": [
    "make_pivot_table(df2.loc[df2['gender'] == 'M'], 'offer_id', 'event')"
   ]
  },
  {
   "cell_type": "markdown",
   "id": "corrected-short",
   "metadata": {},
   "source": [
    "Here, we see that men tend to complete more bogo offers that are less difficult (cheaper?), although they are with less reward as well. Women's tendency is not that much distinct though."
   ]
  },
  {
   "cell_type": "markdown",
   "id": "greatest-responsibility",
   "metadata": {},
   "source": [
    "### Income"
   ]
  },
  {
   "cell_type": "code",
   "execution_count": 31,
   "id": "amber-potter",
   "metadata": {},
   "outputs": [
    {
     "data": {
      "text/plain": [
       "<seaborn.axisgrid.FacetGrid at 0x253045f8f10>"
      ]
     },
     "execution_count": 31,
     "metadata": {},
     "output_type": "execute_result"
    },
    {
     "data": {
      "image/png": "[encoded data removed]",
      "text/plain": [
       "<Figure size 835.375x360 with 2 Axes>"
      ]
     },
     "metadata": {
      "needs_background": "light"
     },
     "output_type": "display_data"
    }
   ],
   "source": [
    "# Make a density plot breaken down by `gender` and `event`\n",
    "sns.displot(dfinfo, x=\"income_thousand\", hue=\"event\", col=\"gender\", kind=\"kde\")"
   ]
  },
  {
   "cell_type": "code",
   "execution_count": 32,
   "id": "based-editing",
   "metadata": {},
   "outputs": [
    {
     "data": {
      "text/html": [
       "<div>\n",
       "<style scoped>\n",
       "    .dataframe tbody tr th:only-of-type {\n",
       "        vertical-align: middle;\n",
       "    }\n",
       "\n",
       "    .dataframe tbody tr th {\n",
       "        vertical-align: top;\n",
       "    }\n",
       "\n",
       "    .dataframe thead th {\n",
       "        text-align: right;\n",
       "    }\n",
       "</style>\n",
       "<table border=\"1\" class=\"dataframe\">\n",
       "  <thead>\n",
       "    <tr style=\"text-align: right;\">\n",
       "      <th>event</th>\n",
       "      <th>offer completed</th>\n",
       "      <th>offer received</th>\n",
       "      <th>offer viewed</th>\n",
       "    </tr>\n",
       "    <tr>\n",
       "      <th>offer_id</th>\n",
       "      <th></th>\n",
       "      <th></th>\n",
       "      <th></th>\n",
       "    </tr>\n",
       "  </thead>\n",
       "  <tbody>\n",
       "    <tr>\n",
       "      <th>4d5c57</th>\n",
       "      <td>0.14</td>\n",
       "      <td>0.44</td>\n",
       "      <td>0.42</td>\n",
       "    </tr>\n",
       "    <tr>\n",
       "      <th>f19421</th>\n",
       "      <td>0.21</td>\n",
       "      <td>0.41</td>\n",
       "      <td>0.39</td>\n",
       "    </tr>\n",
       "  </tbody>\n",
       "</table>\n",
       "</div>"
      ],
      "text/plain": [
       "event     offer completed  offer received  offer viewed\n",
       "offer_id                                               \n",
       "4d5c57               0.14            0.44          0.42\n",
       "f19421               0.21            0.41          0.39"
      ]
     },
     "execution_count": 32,
     "metadata": {},
     "output_type": "execute_result"
    }
   ],
   "source": [
    "make_pivot_table(df2.loc[(df2['gender'] == 'M') & (df2['income_thousand'] < 80)], 'offer_id', 'event')"
   ]
  },
  {
   "cell_type": "code",
   "execution_count": 33,
   "id": "elder-parent",
   "metadata": {},
   "outputs": [
    {
     "data": {
      "text/html": [
       "<div>\n",
       "<style scoped>\n",
       "    .dataframe tbody tr th:only-of-type {\n",
       "        vertical-align: middle;\n",
       "    }\n",
       "\n",
       "    .dataframe tbody tr th {\n",
       "        vertical-align: top;\n",
       "    }\n",
       "\n",
       "    .dataframe thead th {\n",
       "        text-align: right;\n",
       "    }\n",
       "</style>\n",
       "<table border=\"1\" class=\"dataframe\">\n",
       "  <thead>\n",
       "    <tr style=\"text-align: right;\">\n",
       "      <th>event</th>\n",
       "      <th>offer completed</th>\n",
       "      <th>offer received</th>\n",
       "      <th>offer viewed</th>\n",
       "    </tr>\n",
       "    <tr>\n",
       "      <th>offer_id</th>\n",
       "      <th></th>\n",
       "      <th></th>\n",
       "      <th></th>\n",
       "    </tr>\n",
       "  </thead>\n",
       "  <tbody>\n",
       "    <tr>\n",
       "      <th>4d5c57</th>\n",
       "      <td>0.26</td>\n",
       "      <td>0.38</td>\n",
       "      <td>0.36</td>\n",
       "    </tr>\n",
       "    <tr>\n",
       "      <th>f19421</th>\n",
       "      <td>0.26</td>\n",
       "      <td>0.38</td>\n",
       "      <td>0.36</td>\n",
       "    </tr>\n",
       "  </tbody>\n",
       "</table>\n",
       "</div>"
      ],
      "text/plain": [
       "event     offer completed  offer received  offer viewed\n",
       "offer_id                                               \n",
       "4d5c57               0.26            0.38          0.36\n",
       "f19421               0.26            0.38          0.36"
      ]
     },
     "execution_count": 33,
     "metadata": {},
     "output_type": "execute_result"
    }
   ],
   "source": [
    "make_pivot_table(df2.loc[(df2['gender'] == 'M') & (df2['income_thousand'] >= 80)], 'offer_id', 'event')"
   ]
  },
  {
   "cell_type": "code",
   "execution_count": 34,
   "id": "demonstrated-given",
   "metadata": {},
   "outputs": [
    {
     "data": {
      "text/html": [
       "<div>\n",
       "<style scoped>\n",
       "    .dataframe tbody tr th:only-of-type {\n",
       "        vertical-align: middle;\n",
       "    }\n",
       "\n",
       "    .dataframe tbody tr th {\n",
       "        vertical-align: top;\n",
       "    }\n",
       "\n",
       "    .dataframe thead th {\n",
       "        text-align: right;\n",
       "    }\n",
       "</style>\n",
       "<table border=\"1\" class=\"dataframe\">\n",
       "  <thead>\n",
       "    <tr style=\"text-align: right;\">\n",
       "      <th>event</th>\n",
       "      <th>offer completed</th>\n",
       "      <th>offer received</th>\n",
       "      <th>offer viewed</th>\n",
       "    </tr>\n",
       "    <tr>\n",
       "      <th>offer_id</th>\n",
       "      <th></th>\n",
       "      <th></th>\n",
       "      <th></th>\n",
       "    </tr>\n",
       "  </thead>\n",
       "  <tbody>\n",
       "    <tr>\n",
       "      <th>4d5c57</th>\n",
       "      <td>0.22</td>\n",
       "      <td>0.40</td>\n",
       "      <td>0.38</td>\n",
       "    </tr>\n",
       "    <tr>\n",
       "      <th>f19421</th>\n",
       "      <td>0.25</td>\n",
       "      <td>0.39</td>\n",
       "      <td>0.37</td>\n",
       "    </tr>\n",
       "  </tbody>\n",
       "</table>\n",
       "</div>"
      ],
      "text/plain": [
       "event     offer completed  offer received  offer viewed\n",
       "offer_id                                               \n",
       "4d5c57               0.22            0.40          0.38\n",
       "f19421               0.25            0.39          0.37"
      ]
     },
     "execution_count": 34,
     "metadata": {},
     "output_type": "execute_result"
    }
   ],
   "source": [
    "make_pivot_table(df2.loc[(df2['gender'] == 'F') & (df2['income_thousand'] < 80)], 'offer_id', 'event')"
   ]
  },
  {
   "cell_type": "code",
   "execution_count": 35,
   "id": "monetary-influence",
   "metadata": {},
   "outputs": [
    {
     "data": {
      "text/html": [
       "<div>\n",
       "<style scoped>\n",
       "    .dataframe tbody tr th:only-of-type {\n",
       "        vertical-align: middle;\n",
       "    }\n",
       "\n",
       "    .dataframe tbody tr th {\n",
       "        vertical-align: top;\n",
       "    }\n",
       "\n",
       "    .dataframe thead th {\n",
       "        text-align: right;\n",
       "    }\n",
       "</style>\n",
       "<table border=\"1\" class=\"dataframe\">\n",
       "  <thead>\n",
       "    <tr style=\"text-align: right;\">\n",
       "      <th>event</th>\n",
       "      <th>offer completed</th>\n",
       "      <th>offer received</th>\n",
       "      <th>offer viewed</th>\n",
       "    </tr>\n",
       "    <tr>\n",
       "      <th>offer_id</th>\n",
       "      <th></th>\n",
       "      <th></th>\n",
       "      <th></th>\n",
       "    </tr>\n",
       "  </thead>\n",
       "  <tbody>\n",
       "    <tr>\n",
       "      <th>4d5c57</th>\n",
       "      <td>0.27</td>\n",
       "      <td>0.38</td>\n",
       "      <td>0.36</td>\n",
       "    </tr>\n",
       "    <tr>\n",
       "      <th>f19421</th>\n",
       "      <td>0.27</td>\n",
       "      <td>0.37</td>\n",
       "      <td>0.36</td>\n",
       "    </tr>\n",
       "  </tbody>\n",
       "</table>\n",
       "</div>"
      ],
      "text/plain": [
       "event     offer completed  offer received  offer viewed\n",
       "offer_id                                               \n",
       "4d5c57               0.27            0.38          0.36\n",
       "f19421               0.27            0.37          0.36"
      ]
     },
     "execution_count": 35,
     "metadata": {},
     "output_type": "execute_result"
    }
   ],
   "source": [
    "make_pivot_table(df2.loc[(df2['gender'] == 'F') & (df2['income_thousand'] >= 80)], 'offer_id', 'event')"
   ]
  },
  {
   "cell_type": "markdown",
   "id": "shared-afternoon",
   "metadata": {},
   "source": [
    "This confirms that, most of the interest for cheaper bogo (less difficulty) comes from those who earn less than 80K per year."
   ]
  },
  {
   "cell_type": "code",
   "execution_count": null,
   "id": "utility-denial",
   "metadata": {},
   "outputs": [],
   "source": []
  }
 ],
 "metadata": {
  "kernelspec": {
   "display_name": "Python 3",
   "language": "python",
   "name": "python3"
  },
  "language_info": {
   "codemirror_mode": {
    "name": "ipython",
    "version": 3
   },
   "file_extension": ".py",
   "mimetype": "text/x-python",
   "name": "python",
   "nbconvert_exporter": "python",
   "pygments_lexer": "ipython3",
   "version": "3.8.5"
  }
 },
 "nbformat": 4,
 "nbformat_minor": 5
}
